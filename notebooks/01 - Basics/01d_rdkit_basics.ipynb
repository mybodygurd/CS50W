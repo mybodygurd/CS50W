{
  "cells": [
    {
      "cell_type": "markdown",
      "metadata": {
        "id": "OmW3cNzdIf_k"
      },
      "source": [
        "<a href=\"https://colab.research.google.com/github/schwallergroup/ai4chem_course/blob/main/notebooks/01 - Basics/01d_rdkit_basics.ipynb\" target=\"_parent\"><img src=\"https://colab.research.google.com/assets/colab-badge.svg\" alt=\"Open In Colab\"/></a>\n"
      ]
    },
    {
      "cell_type": "markdown",
      "metadata": {
        "id": "FttOTW2TIf_m"
      },
      "source": [
        "# Basic handling of molecular data using Python"
      ]
    },
    {
      "cell_type": "markdown",
      "metadata": {
        "id": "Y_iDRDE2If_n"
      },
      "source": [
        "## RDKit\n",
        "`RDKit` is an open-source software toolkit for cheminformatics, designed to assist in the analysis and design of small molecules and chemical compounds. It provides a set of libraries and tools for the manipulation and analysis of molecular structures, molecular descriptors, molecular fingerprints, molecular similarity, molecular visualization, and more. The toolkit is widely used in academia, as well as in the pharmaceutical, biotech, and chemical industries for a variety of tasks such as virtual screening, lead optimization, and chemical database management.\n",
        "\n",
        "## Install dependencies\n",
        "\n",
        "First, you'll need to install the `RDKit` library. You can do this by running `pip install rdkit`:"
      ]
    },
    {
      "cell_type": "code",
      "execution_count": 1,
      "metadata": {
        "id": "yRETqhZiIf_o",
        "outputId": "5a89fca2-1445-4a91-8fd4-2512674f0157",
        "colab": {
          "base_uri": "https://localhost:8080/"
        }
      },
      "outputs": [
        {
          "output_type": "stream",
          "name": "stdout",
          "text": [
            "Collecting rdkit\n",
            "  Downloading rdkit-2024.9.1-cp310-cp310-manylinux_2_28_x86_64.whl.metadata (4.0 kB)\n",
            "Requirement already satisfied: numpy in /usr/local/lib/python3.10/dist-packages (from rdkit) (1.26.4)\n",
            "Requirement already satisfied: Pillow in /usr/local/lib/python3.10/dist-packages (from rdkit) (11.0.0)\n",
            "Downloading rdkit-2024.9.1-cp310-cp310-manylinux_2_28_x86_64.whl (33.3 MB)\n",
            "\u001b[2K   \u001b[90m━━━━━━━━━━━━━━━━━━━━━━━━━━━━━━━━━━━━━━━━\u001b[0m \u001b[32m33.3/33.3 MB\u001b[0m \u001b[31m14.1 MB/s\u001b[0m eta \u001b[36m0:00:00\u001b[0m\n",
            "\u001b[?25hInstalling collected packages: rdkit\n",
            "Successfully installed rdkit-2024.9.1\n"
          ]
        }
      ],
      "source": [
        "!pip install rdkit"
      ]
    },
    {
      "cell_type": "markdown",
      "metadata": {
        "id": "rz4oasF7If_p"
      },
      "source": [
        "Now that we have `rdkit` we can start importing relevant modules and downloading our example ESOL dataset."
      ]
    },
    {
      "cell_type": "code",
      "execution_count": 2,
      "metadata": {
        "id": "O-HS0M9QIf_p"
      },
      "outputs": [],
      "source": [
        "import pandas as pd\n",
        "from rdkit import Chem\n",
        "from rdkit.Chem.Draw import IPythonConsole\n"
      ]
    },
    {
      "cell_type": "markdown",
      "metadata": {
        "id": "nQmuRvOaIf_q"
      },
      "source": [
        "Let's start looking at a specific molecule to play around with RDKit functionalities, and look at caffeine.\n",
        "\n",
        "The name `caffeine` does not contain any structural information on the molecule. Just by having this name a computer does not know how many (heavy) atoms `caffeine` contains and what bonds they form. We need machine-accessible representations. One of the most commonly used ones is `SMILES`.\n",
        "\n",
        "## SMILES\n",
        "\n",
        "`SMILES` (Simplified Molecular Input Line Entry System) is a line notation representation of molecular structures. It is a way of representing chemical compounds as strings of characters, which can be easily processed and analyzed by computer algorithms.\n",
        "\n",
        "Each SMILES string consists of symbols that represent the elements in the molecule, as well as brackets and other characters that describe the bonding between the atoms. For example, the SMILES string for ethanol (C2H5OH) would be `CCO`. In SMILES, each carbon atom is represented by the letter \"C\", each hydrogen atom by the letter \"H\", and each oxygen atom by the letter \"O\". The bonding between the atoms is indicated by the arrangement of the characters in the string.\n",
        "\n",
        "SMILES is widely used in cheminformatics and computational chemistry, as it provides a compact and standardized way of representing molecular structures in a machine-readable form. This makes it possible to compare and analyze large numbers of chemical compounds, as well as to generate predictions about their properties and behavior.\n",
        "\n",
        "\n",
        " Look up the SMILES string of `caffeine` on Wikipedia/PubChem."
      ]
    },
    {
      "cell_type": "code",
      "execution_count": 3,
      "metadata": {
        "id": "JFKomaFXIf_q"
      },
      "outputs": [],
      "source": [
        "caffeine_smiles = 'Cn1cnc2c1c(=O)n(c(=O)n2C)C' # fill in the SMILES"
      ]
    },
    {
      "cell_type": "markdown",
      "metadata": {
        "id": "bP1LjgIKIf_r"
      },
      "source": [
        "## 1 - Basic molecule handling"
      ]
    },
    {
      "cell_type": "markdown",
      "metadata": {
        "id": "EUKoMm7PIf_t"
      },
      "source": [
        "In this section we will see how to do some basic operations with molecules in rdkit and to handle them in machine-readable format."
      ]
    },
    {
      "cell_type": "markdown",
      "metadata": {
        "id": "0KW6fnf2If_t"
      },
      "source": [
        "#### 1.1 - Creating and visualizing molecules"
      ]
    },
    {
      "cell_type": "markdown",
      "metadata": {
        "id": "GXtBuAHVIf_t"
      },
      "source": [
        "Let's start with the most basic rdkit action: creating a `Mol` object (or variable, as you prefer). `Mol` objects represent molecules, and can be created from different molecular representations (SMILES, .sdf files, etc.). We will use the basic `MolFromSmiles` function to create a variable `caffeine` representing our caffeine molecule."
      ]
    },
    {
      "cell_type": "code",
      "execution_count": 4,
      "metadata": {
        "id": "WfU0HzFYIf_u"
      },
      "outputs": [],
      "source": [
        "caffeine = Chem.MolFromSmiles(caffeine_smiles)\n",
        "\n",
        "#Note: if you try to pass directly a the caffeine SMILES string, you will get the same result"
      ]
    },
    {
      "cell_type": "markdown",
      "metadata": {
        "id": "JGPbVuaRIf_u"
      },
      "source": [
        "We can display the value of a variable in the notebook by typing the name and then running the cell. In this case, we can visualize the molecule this way."
      ]
    },
    {
      "cell_type": "code",
      "execution_count": 5,
      "metadata": {
        "id": "-8jc3ATxIf_u",
        "outputId": "e8c427b7-caa3-4e93-c8eb-f727c5f04c4d",
        "colab": {
          "base_uri": "https://localhost:8080/",
          "height": 167
        }
      },
      "outputs": [
        {
          "output_type": "execute_result",
          "data": {
            "text/plain": [
              "<rdkit.Chem.rdchem.Mol at 0x7e1126570f90>"
            ],
            "image/png": "[encoded data removed]"
          },
          "metadata": {},
          "execution_count": 5
        }
      ],
      "source": [
        "caffeine"
      ]
    },
    {
      "cell_type": "markdown",
      "metadata": {
        "id": "IXybAvojIf_v"
      },
      "source": [
        "Another interesting option is saving the mol object as an image. This way, you can download it or save it in your working directory. We can create an image file using the function `MolToImage` and our mol object as the argument."
      ]
    },
    {
      "cell_type": "code",
      "execution_count": 6,
      "metadata": {
        "id": "uaQ3y473If_v"
      },
      "outputs": [],
      "source": [
        "from rdkit.Chem import Draw\n",
        "\n",
        "#Create image file\n",
        "im = Draw.MolToImage(caffeine)\n",
        "\n",
        "#Save image as a PNG file in our current directory\n",
        "im.save('caffeine.png')"
      ]
    },
    {
      "cell_type": "markdown",
      "metadata": {
        "id": "S4N4XgVqIf_v"
      },
      "source": [
        "Check the directory to see the image"
      ]
    },
    {
      "cell_type": "markdown",
      "metadata": {
        "id": "hW-hZph-If_v"
      },
      "source": [
        "##### Exercise 1: creating a GridImage"
      ]
    },
    {
      "cell_type": "markdown",
      "metadata": {
        "id": "QUAATX6MIf_v"
      },
      "source": [
        "It is possible to create an image file containing a grid of molecules. This can be very useful when you have to show and compare molecules that are related. In this exercise, you have to create two additional mol objects, and save all the as a grid image."
      ]
    },
    {
      "cell_type": "code",
      "execution_count": 8,
      "metadata": {
        "id": "LrbZiqOfIf_v",
        "outputId": "730331a9-7c78-4c09-d9c6-e0899f828917",
        "colab": {
          "base_uri": "https://localhost:8080/",
          "height": 217
        }
      },
      "outputs": [
        {
          "output_type": "execute_result",
          "data": {
            "image/png": "[encoded data removed]",
            "text/plain": [
              "<IPython.core.display.Image object>"
            ]
          },
          "metadata": {},
          "execution_count": 8
        }
      ],
      "source": [
        "####YOUR CODE HERE\n",
        "theobromine = Chem.MolFromSmiles('Cn1cnc2c1c(=O)[nH]c(=O)n2C') # insert SMILES\n",
        "xanthine = Chem.MolFromSmiles('O=C1NC2=C(N1)C(=O)NC=N2') #insert SMILES\n",
        "\n",
        "\n",
        "mols = [caffeine, theobromine, xanthine] #create a list containing the 3 mol objects we have created\n",
        "names = [\"Caffeine\", \"Theobromine\", \"Xanthine\"] #create a list containing the names of the 3 molecules\n",
        "\n",
        "#Now we create the GridImage\n",
        "grid = Draw.MolsToGridImage( mols, legends=names) #pass the 'mols' list here and create the image\n",
        "\n",
        "####END\n",
        "\n",
        "grid #visualize your molecules!\n",
        "\n",
        "#SOLUTION\n",
        "#%load https://raw.githubusercontent.com/schwallergroup/ai4chem_course/main/notebooks/solutions/solution_01d_01.py"
      ]
    },
    {
      "cell_type": "markdown",
      "metadata": {
        "id": "ZvReq5m0If_w"
      },
      "source": [
        "Is it easy to see the similarities between molecules? You can run the cell below to save the `GridImage` as a `.png` file"
      ]
    },
    {
      "cell_type": "code",
      "execution_count": 9,
      "metadata": {
        "id": "LQNoagGlIf_w"
      },
      "outputs": [],
      "source": [
        "#extract bytes and save file\n",
        "png = grid.data\n",
        "\n",
        "with open('./grid_mols.png','wb+') as outf:\n",
        "    outf.write(png)"
      ]
    },
    {
      "cell_type": "markdown",
      "metadata": {
        "id": "23NOHZ4FIf_w"
      },
      "source": [
        "#### 1.2 - Playing with molecules"
      ]
    },
    {
      "cell_type": "markdown",
      "metadata": {
        "id": "DUmQqSpKIf_w"
      },
      "source": [
        "But what is actually a Mol object? Nothing simpler than a graph representing the molecule! In this graph, vertices represents the atoms and edges the bonds in the molecule. Therefore, we can retrieve the atoms and bonds from the graph and play with them."
      ]
    },
    {
      "cell_type": "code",
      "execution_count": 10,
      "metadata": {
        "id": "3D45KllaIf_w",
        "outputId": "00d12bbc-930f-410b-e371-a9bc642e06e9",
        "colab": {
          "base_uri": "https://localhost:8080/"
        }
      },
      "outputs": [
        {
          "output_type": "stream",
          "name": "stdout",
          "text": [
            "N of atoms: 14\n",
            "N of bonds: 15\n"
          ]
        }
      ],
      "source": [
        "#Get total number of atoms\n",
        "n_atoms = caffeine.GetNumAtoms()\n",
        "print(f'N of atoms: {n_atoms}')\n",
        "\n",
        "#Get total number of bonds\n",
        "n_bonds = caffeine.GetNumBonds()\n",
        "print(f'N of bonds: {n_bonds}')"
      ]
    },
    {
      "cell_type": "markdown",
      "metadata": {
        "id": "V2ly5GZ1If_x"
      },
      "source": [
        "We can also get the atoms and bonds as lists and get some of their properties."
      ]
    },
    {
      "cell_type": "code",
      "execution_count": 12,
      "metadata": {
        "id": "Qhk5GhHSIf_x",
        "outputId": "cc9a9553-113e-442b-e268-d0d9471afd25",
        "colab": {
          "base_uri": "https://localhost:8080/"
        }
      },
      "outputs": [
        {
          "output_type": "stream",
          "name": "stdout",
          "text": [
            "atomic number\n",
            "6\n",
            "7\n",
            "6\n",
            "7\n",
            "6\n",
            "6\n",
            "6\n",
            "8\n",
            "7\n",
            "6\n",
            "8\n",
            "7\n",
            "6\n",
            "6\n",
            "first three bonds in the list\n",
            "SINGLE\n",
            "AROMATIC\n",
            "AROMATIC\n"
          ]
        }
      ],
      "source": [
        "#create a list containing the atoms of the molecule\n",
        "atoms = list(caffeine.GetAtoms())\n",
        "\n",
        "#print the atomic number for each atom in the molecule\n",
        "print(\"atomic number\")\n",
        "for atom in atoms:\n",
        "    print(atom.GetAtomicNum())\n",
        "\n",
        "#create a list containing the bonds in the molecule\n",
        "bonds = list(caffeine.GetBonds())\n",
        "\n",
        "#print only the first three bonds in the list\n",
        "print(\"first three bonds in the list\")\n",
        "for bond in bonds[0:3]:\n",
        "    print(bond.GetBondType())"
      ]
    },
    {
      "cell_type": "markdown",
      "metadata": {
        "id": "zm5Zf1IRIf_x"
      },
      "source": [
        "It is possible to select atoms individually and get some of their attributes."
      ]
    },
    {
      "cell_type": "code",
      "execution_count": null,
      "metadata": {
        "id": "JMSaWrfAIf_x"
      },
      "outputs": [],
      "source": [
        "atom = caffeine.GetAtomWithIdx(3)\n",
        "\n",
        "print(atom.GetSymbol())\n",
        "print(atom.GetTotalDegree()) #Get number of bonded atoms\n",
        "print(atom.GetHybridization())"
      ]
    },
    {
      "cell_type": "markdown",
      "metadata": {
        "id": "sFfMWDN_If_x"
      },
      "source": [
        "Watching the output, could you find the atom we have selected in the caffeine molecule?"
      ]
    },
    {
      "cell_type": "markdown",
      "metadata": {
        "id": "NrYZNcl_If_x"
      },
      "source": [
        "#### 1.3 - Canonicalization"
      ]
    },
    {
      "cell_type": "markdown",
      "metadata": {
        "id": "hp6RCFCJIf_y"
      },
      "source": [
        "Although SMILES are very useful to handle molecules, they are not unique, which means that different SMILES can represent the same molecule. In the example below, we use three different SMILES that map to the same molecule.\n"
      ]
    },
    {
      "cell_type": "code",
      "execution_count": null,
      "metadata": {
        "id": "V021KBiAIf_y"
      },
      "outputs": [],
      "source": [
        "caffeine1 = '' #insert your original smiles\n",
        "caffeine2 = 'Cn1cnc2c1c(=O)n(C)c(=O)n2C'\n",
        "caffeine3 = 'Cn1c(=O)c2c(ncn2C)n(C)c1=O'\n",
        "\n",
        "#Create a list of SMILES\n",
        "smiles_list = [caffeine1, caffeine2, caffeine3]\n",
        "\n",
        "#Create mols from smiles\n",
        "mols = [Chem.MolFromSmiles(smiles) for smiles in smiles_list]\n",
        "\n",
        "#Visualize mols\n",
        "Draw.MolsToGridImage(mols)"
      ]
    },
    {
      "cell_type": "markdown",
      "metadata": {
        "id": "qK6XTuJqIf_y"
      },
      "source": [
        "As you see, although we have introduced 3 different SMILES, we are referring to the same molecule. To avoid this, we can apply `canonicalization`. This concept refers to the generation of a unique SMILES for each molecule."
      ]
    },
    {
      "cell_type": "markdown",
      "metadata": {
        "id": "Pk0cI4B1If_y"
      },
      "source": [
        "##### Exercise 2 - Canonicalization function"
      ]
    },
    {
      "cell_type": "markdown",
      "metadata": {
        "id": "mawm6eGlIf_y"
      },
      "source": [
        "Write a canonicalization function and apply it to the previous list of non-canonical caffeine SMILES. We can use the `MolToSmiles` function in `rdkit` to get the SMILES of a mol object. By default, `rdkit` canonicalizes the SMILES when applying this function, so we can use it to create our canonicalization function."
      ]
    },
    {
      "cell_type": "code",
      "execution_count": null,
      "metadata": {
        "id": "aTK2u9djIf_z"
      },
      "outputs": [],
      "source": [
        "def canonicalize_smiles(smiles):\n",
        "    '''This function takes a non-canonical SMILES and\n",
        "    returns the canonical version\n",
        "\n",
        "    Args:\n",
        "        -smiles: str, non-canonical SMILES of a molecule\n",
        "\n",
        "    Out:\n",
        "        - canonical_smiles: str, canonical SMILES of the molecule\n",
        "    '''\n",
        "\n",
        "    ####YOUR CODE HERE\n",
        "\n",
        "    mol = #create a mol object from input smiles\n",
        "\n",
        "    canonical_smiles = #convert the previous mol object to SMILES using Chem.MolToSmiles()\n",
        "\n",
        "    ####END\n",
        "    return canonical_smiles\n",
        "\n",
        "#SOLUTION\n",
        "# %load https://raw.githubusercontent.com/schwallergroup/ai4chem_course/main/notebooks/solutions/solution_01d_02.py"
      ]
    },
    {
      "cell_type": "markdown",
      "metadata": {
        "id": "iX_q69PVIf_z"
      },
      "source": [
        "If you apply now this function to previous non-canonical SMILES, you will obtain the canonical version (the same SMILES)."
      ]
    },
    {
      "cell_type": "code",
      "execution_count": null,
      "metadata": {
        "id": "0Mvu41NIIf_4"
      },
      "outputs": [],
      "source": [
        "#create a new list by applying your function to list of non-canonical SMILES\n",
        "canonical_smiles = [canonicalize_smiles(smiles) for smiles in smiles_list]\n",
        "\n",
        "#check new list\n",
        "for smiles in canonical_smiles:\n",
        "    print(smiles)"
      ]
    },
    {
      "cell_type": "markdown",
      "metadata": {
        "id": "2fO9IhzFIf_4"
      },
      "source": [
        "One important thing to consider is that there is no unique canonicalisation standard. The resulting SMILES will depend on the cheminformatics toolkit and the version that is used (therefore, we recommed to use the same package and version if you want to compare results)."
      ]
    },
    {
      "cell_type": "markdown",
      "metadata": {
        "id": "1A0nto1SIf_4"
      },
      "source": [
        "#### 1.4 - Fingerprints"
      ]
    },
    {
      "cell_type": "markdown",
      "metadata": {
        "id": "rbtEloOBIf_5"
      },
      "source": [
        "ML algorithms usually take vectors (or tensors) as inputs and operate with them. However, we are dealing with molecules. How can we transform molecules into numbers to feed our ML algorithms?\n",
        "\n",
        "One common option is using [*molecular fingerprints*](https://chem.libretexts.org/Courses/Intercollegiate_Courses/Cheminformatics/06%3A_Molecular_Similarity/6.01%3A_Molecular_Descriptors). Molecular fingerprints are vectors that describe molecules as bit arrays (arrays of 1s and 0s). By using fingerprints, we can encode our structures and operate with them. There are many fingeprints available, but here we will use the [Morgan Fingerprint](https://www.rdkit.org/docs/GettingStartedInPython.html#morgan-fingerprints-circular-fingerprints)."
      ]
    },
    {
      "cell_type": "code",
      "execution_count": null,
      "metadata": {
        "id": "2yMADNWvIf_5"
      },
      "outputs": [],
      "source": [
        "from rdkit.Chem import AllChem\n",
        "import numpy as np\n",
        "\n",
        "#We use the GetMorganFingerprintAsBitVect to create the fingerprint\n",
        "caffeine_fp = AllChem.GetMorganFingerprintAsBitVect(caffeine, 2, nBits=1024) #2 means radius=2 and nBits is the number of bits (lenght) of the fp\n",
        "\n",
        "print(caffeine_fp.GetNumBits()) #print vector length\n",
        "\n",
        "caffeine_fp.ToList() #visualize vector as list"
      ]
    },
    {
      "cell_type": "markdown",
      "metadata": {
        "id": "UAbYhhEUIf_5"
      },
      "source": [
        "##### Exercise 3 - Molecular similarity using Tanimoto distance"
      ]
    },
    {
      "cell_type": "markdown",
      "metadata": {
        "id": "KbfP-nwiIf_5"
      },
      "source": [
        "In this exercise, we will see how we can extract chemical information using fingerprints and [Tanimoto similarity](https://en.wikipedia.org/wiki/Jaccard_index). `Tanimoto similarity` measures how similar two fingerprints are. We can use this metric to compare groups of molecules and decide which ones are chemically similar (intuitively, which molecules share more common substructures).\n",
        "\n",
        "As an example, you have to create the `Morgan fingerprints` (r=2, nBits=1024) of toluene and theobromine, and then use the `Tanimoto similarity` to decide which one is more similar to caffeine. `Tanimoto similarity` quantifies how many bits two binary vectors have in common."
      ]
    },
    {
      "cell_type": "code",
      "execution_count": null,
      "metadata": {
        "id": "cnrZz4K_If_5"
      },
      "outputs": [],
      "source": [
        "#Remember that we have previously created the caffeine fingerprint and the theobromine mol object\n",
        "from rdkit.DataStructs import FingerprintSimilarity\n",
        "\n",
        "####YOUR CODE\n",
        "toluene = Chem.MolFromSmiles('') #insert toluene SMILES\n",
        "\n",
        "#Now, create the fingerprints of theobromine and toluene\n",
        "toluene_fp = AllChem.GetMorganFingerprintAsBitVect() #insert corresponding values\n",
        "theobromine_fp =  #same for theobromine\n",
        "\n",
        "#Now we calculate Tanimoto Similarity\n",
        "sim1 = FingerprintSimilarity( , ) #insert fingerprints to compare\n",
        "sim2 = FingerprintSimilarity( , ) #same than before\n",
        "\n",
        "####END\n",
        "\n",
        "#We can now print each similarity\n",
        "print(f'Caffeine-toluene similarity: {round(sim1, 3)}'.format())\n",
        "print(f'Caffeine-theobromine similarity: {round(sim2, 3)}')\n",
        "\n",
        "\n",
        "#SOLUTION\n",
        "# %load https://raw.githubusercontent.com/schwallergroup/ai4chem_course/main/notebooks/solutions/solution_01d_03.py"
      ]
    },
    {
      "cell_type": "markdown",
      "metadata": {
        "id": "GCzezOVVIf_5"
      },
      "source": [
        "Does this result make sense for you?"
      ]
    },
    {
      "cell_type": "markdown",
      "metadata": {
        "id": "SJPqsFm6If_6"
      },
      "source": [
        "#### 1.5 - Bemis-Murcko Scaffold"
      ]
    },
    {
      "cell_type": "markdown",
      "metadata": {
        "id": "ImhxjPE_If_6"
      },
      "source": [
        "It is possible to decompose molecule into basic scaffolds or core molecular motifs. A common method is the [Bemis-Murcko](https://pubs.acs.org/doi/10.1021/jm9602928) decomposition. This method returns a simplified framework of a molecule that can be useful to compare or group different types of substances. `Bemis-Murcko` scaffolds can be easily obtained in `rdkit`."
      ]
    },
    {
      "cell_type": "code",
      "execution_count": null,
      "metadata": {
        "id": "RUf5OftKIf_6"
      },
      "outputs": [],
      "source": [
        "from rdkit.Chem.Scaffolds import MurckoScaffold\n",
        "\n",
        "#Get Murcko Scaffold from a mol object\n",
        "caff_scaffold = MurckoScaffold.GetScaffoldForMol(caffeine)\n",
        "\n",
        "#Show original molecule\n",
        "display(caffeine)\n",
        "\n",
        "#Show Murcko scaffold\n",
        "caff_scaffold"
      ]
    },
    {
      "cell_type": "markdown",
      "metadata": {
        "id": "BvD1SBf7If_6"
      },
      "source": [
        "We can compare caffeine and theobromine scaffolds to realize these molecules are very similar"
      ]
    },
    {
      "cell_type": "code",
      "execution_count": null,
      "metadata": {
        "id": "WxTg-tDvIf_7"
      },
      "outputs": [],
      "source": [
        "#compute theobromine scaffold\n",
        "theobr_scaffold = MurckoScaffold.GetScaffoldForMol(theobromine)\n",
        "\n",
        "#draw both scaffolds as a GridImage\n",
        "Draw.MolsToGridImage([caff_scaffold, theobr_scaffold], legends=['caffeine scaffold', 'thebromine scaffold'])"
      ]
    },
    {
      "cell_type": "markdown",
      "metadata": {
        "id": "voidJw4RIf_-"
      },
      "source": [
        "## 2 - Combining RDKit with Pandas\n",
        "\n",
        "The next step is to convert the data in the `df` dataframe into mol objects that can be processed by RDKit. You can do this using the `PandasTools.AddMoleculeColumnToFrame` function.\n",
        "\n",
        "To do that we will not use the `Compound ID` column (as it only contains names, and not the actual structure), but we will use the `smiles` column in our ESOL dataset. First, we load the dataset and take only some columns."
      ]
    },
    {
      "cell_type": "code",
      "execution_count": null,
      "metadata": {
        "id": "rrLKAWmBIf_-"
      },
      "outputs": [],
      "source": [
        "# get the dataset\n",
        "df = pd.read_csv(\"https://raw.githubusercontent.com/schwallergroup/ai4chem_course/main/notebooks/01%20-%20Basics/data/delaney-processed.csv\" )\n",
        "\n",
        "#Take only Compound ID, smiles and solubility\n",
        "df = df[['Compound ID', 'smiles', 'measured log solubility in mols per litre']]\n",
        "\n",
        "#Rename solubility column\n",
        "df = df.rename(columns={'measured log solubility in mols per litre': 'solubility'})\n",
        "df.head()"
      ]
    },
    {
      "cell_type": "markdown",
      "metadata": {
        "id": "CWEZmitoIf_-"
      },
      "source": [
        "Now we use `AddMoleculeColumnToFrame` to add a new column containing the mol objects."
      ]
    },
    {
      "cell_type": "code",
      "execution_count": null,
      "metadata": {
        "id": "VABPPxbpIf_-"
      },
      "outputs": [],
      "source": [
        "# Convert SMILES into Mol objects\n",
        "from rdkit.Chem import PandasTools\n",
        "\n",
        "PandasTools.AddMoleculeColumnToFrame(df, smilesCol='smiles', molCol='Molecule')\n",
        "df.head()"
      ]
    },
    {
      "cell_type": "markdown",
      "metadata": {
        "id": "DPdB2YDcIf__"
      },
      "source": [
        "As you see, the final df contains a column named `Molecule` with the corresponding mol objects. These objects can be manipulated using the same functions we have learned in the previous section. It is also possible to directly visualize the molecules in `df`."
      ]
    },
    {
      "cell_type": "code",
      "execution_count": null,
      "metadata": {
        "id": "ZHqf6VmYIf__"
      },
      "outputs": [],
      "source": [
        "#display df with molecules\n",
        "df"
      ]
    },
    {
      "cell_type": "markdown",
      "metadata": {
        "id": "2YRJfmbyIf__"
      },
      "source": [
        "#### 2.1 - Applying functions to df"
      ]
    },
    {
      "cell_type": "markdown",
      "metadata": {
        "id": "2KaHOIrrIf__"
      },
      "source": [
        "One useful option when working with pandas DataFrames is applying the same operation to all the examples we have in the dataframe. We can do these by using the `apply` function, as you see in the example below."
      ]
    },
    {
      "cell_type": "code",
      "execution_count": null,
      "metadata": {
        "id": "aMuFFYhBIgAA"
      },
      "outputs": [],
      "source": [
        "#apply canonical smiles to our df\n",
        "df['canonical_smiles'] = df['smiles'].apply(canonicalize_smiles) #we apply our custom function to the 'smiles' column\n",
        "\n",
        "#drop old 'smiles' column\n",
        "df = df.drop(columns='smiles')\n",
        "\n",
        "df.head()"
      ]
    },
    {
      "cell_type": "markdown",
      "metadata": {
        "id": "kODuoH-kIgAA"
      },
      "source": [
        "As you see, our `df` now contains a new column called `canonical_smiles` that is obtained by applying our previously created `canonicalize_smiles` function to the previous `smiles` column of `df`."
      ]
    },
    {
      "cell_type": "markdown",
      "metadata": {
        "id": "BA4-PL2GIgAA"
      },
      "source": [
        "##### Exercise 4 - Computing Molecular Weight"
      ]
    },
    {
      "cell_type": "markdown",
      "metadata": {
        "id": "PUN1NOvpIgAA"
      },
      "source": [
        "We will now use the apply() function to compute the molecular weight of all our molecules. This function takes a mol object as input and returns its molecular wieight."
      ]
    },
    {
      "cell_type": "code",
      "execution_count": null,
      "metadata": {
        "id": "OR0X3MzaIgAA"
      },
      "outputs": [],
      "source": [
        "from rdkit.Chem.Descriptors import MolWt\n",
        "\n",
        "####YOUR CODE\n",
        "df['MW'] = #use the apply function on the 'Molecule' column to compute MolWt\n",
        "\n",
        "####END\n",
        "\n",
        "df.head()\n",
        "\n",
        "#SOLUTION\n",
        "# %load https://raw.githubusercontent.com/schwallergroup/ai4chem_course/main/notebooks/solutions/solution_01d_04.py"
      ]
    },
    {
      "cell_type": "markdown",
      "metadata": {
        "id": "EW9NstnrIgAA"
      },
      "source": [
        "As you can see, a new column `MW` containing the molecular weights of the molecule appears."
      ]
    },
    {
      "cell_type": "markdown",
      "metadata": {
        "id": "v8uG87zFIgAB"
      },
      "source": [
        "#### 2.2 - Computing Molecular Descriptors"
      ]
    },
    {
      "cell_type": "markdown",
      "metadata": {
        "id": "7k0RxNCSIgAB"
      },
      "source": [
        "Molecular weight is one of the properties we can compute from a molecule. Apart from fingerprints, ML algorithms can take as input numbers describing the molecules we are interested in, as the molecular weight or the `logP`. We call these attributes `molecular descriptors`.\n",
        "\n",
        "`rdkit` provides several molecular descriptors, that we can find in detail [here](https://www.rdkit.org/docs/GettingStartedInPython.html#list-of-available-descriptors). Below we show a basic calculation of multiple descriptors for the molecules in the dataframe."
      ]
    },
    {
      "cell_type": "code",
      "execution_count": null,
      "metadata": {
        "id": "GPLcnhHmIgAB"
      },
      "outputs": [],
      "source": [
        "from rdkit.ML.Descriptors.MoleculeDescriptors import MolecularDescriptorCalculator\n",
        "\n",
        "#Define a list with the name of the descriptors you are interested in\n",
        "descriptors=[\n",
        "        'TPSA',\n",
        "        'MolLogP',\n",
        "        'NumHAcceptors',\n",
        "        'NumHDonors',\n",
        "        'RingCount',\n",
        "        'NumAromaticHeterocycles'\n",
        "    ]\n",
        "\n",
        "#create a descriptor calculator containing the descriptors specified in the list\n",
        "calculator = MolecularDescriptorCalculator(descriptors)\n",
        "\n",
        "#Compute descriptors for each molecule in the df by using apply() and the calculator object\n",
        "properties = df['Molecule'].apply(calculator.CalcDescriptors)\n",
        "\n",
        "#create a dataframe containing the computed descriptors\n",
        "df_properties = pd.DataFrame(properties.tolist(), columns=descriptors)\n",
        "\n",
        "df_properties.head()\n"
      ]
    },
    {
      "cell_type": "markdown",
      "metadata": {
        "id": "p7ug4VjfIgAB"
      },
      "source": [
        "As you see, we have created a dataframe with the properties we were interested in for each molecule.\n",
        "\n",
        "There are also specific libraries like [mordred](https://github.com/mordred-descriptor/mordred) that make possible to compute hundreds of descriptors for the same molecule. In the following session we will see how we can compute descriptors for feeding ML models in more detail."
      ]
    },
    {
      "cell_type": "markdown",
      "metadata": {
        "id": "zbY0VrZMIgAC"
      },
      "source": [
        "#### 2.3 - Substructure search"
      ]
    },
    {
      "cell_type": "markdown",
      "metadata": {
        "id": "ENdw4QWUIgAC"
      },
      "source": [
        "In the last section, we will see how to look for structural patterns in molecules, a very important task when we are dealing with many different types of substances or we are trying to extract chemical information from our datasets.\n",
        "\n",
        "We can use SMILES to create a pattern we are interested in. In the example below, we create two patterns and check if our `caffeine` molecule contains them."
      ]
    },
    {
      "cell_type": "code",
      "execution_count": null,
      "metadata": {
        "id": "33WKukdEIgAC"
      },
      "outputs": [],
      "source": [
        "#create patterns as mol objects\n",
        "patt1 = Chem.MolFromSmiles('C=O')\n",
        "patt2 = Chem.MolFromSmiles('CC(N)C')\n",
        "\n",
        "#display patterns\n",
        "Draw.MolsToGridImage([patt1, patt2], legends=['pattern1', 'pattern2'], molsPerRow=2)"
      ]
    },
    {
      "cell_type": "markdown",
      "metadata": {
        "id": "JY7er3-WIgAC"
      },
      "source": [
        "Now we can check if the caffeine mol object contains any of the two pattern using the method HasSubstructMatch()"
      ]
    },
    {
      "cell_type": "code",
      "execution_count": null,
      "metadata": {
        "id": "WixP3EkVIgAC"
      },
      "outputs": [],
      "source": [
        "check_p1 = caffeine.HasSubstructMatch(patt1)\n",
        "print('Contains pattern 1: {}'.format(check_p1))\n",
        "\n",
        "check_p2 = caffeine.HasSubstructMatch(patt2)\n",
        "print('Contains pattern 2: {}'.format(check_p2))"
      ]
    },
    {
      "cell_type": "markdown",
      "metadata": {
        "id": "EDzTBqtZIgAC"
      },
      "source": [
        "As you see, `caffeine` contains pattern 1 (carbonyl) but not pattern 2 (amine).\n",
        "\n",
        "It is also possible to use a more detailed language for substructure searching called [SMARTS](https://www.daylight.com/dayhtml/doc/theory/theory.smarts.html). `SMARTS` are an extension of `SMILES` and allow us to specify substructures with several structural patterns. Below you can see an example of substructure matching using `SMARTS`."
      ]
    },
    {
      "cell_type": "code",
      "execution_count": null,
      "metadata": {
        "id": "FXzOV2BIIgAE"
      },
      "outputs": [],
      "source": [
        "from IPython.display import SVG\n",
        "\n",
        "#create pattern. This pattern means any carbon atom that is contained on a ring\n",
        "patt = '[#6;r]'\n",
        "\n",
        "patt = Chem.MolFromSmarts(patt)\n",
        "\n",
        "#Here we get all the atoms matching the previous pattern\n",
        "matches = caffeine.GetSubstructMatches(patt)\n",
        "\n",
        "#we create a list containing the matching atoms (as indexes)\n",
        "highlightAtomLists = [atom[0] for atom in matches]\n",
        "\n",
        "#Finally, we display the image of the molecule with the highlighted matching atoms\n",
        "SVG(Draw._MolsToGridSVG([caffeine], highlightAtomLists=[highlightAtomLists], molsPerRow=1))"
      ]
    },
    {
      "cell_type": "markdown",
      "metadata": {
        "id": "Jz6CIPP_IgAE"
      },
      "source": [
        "##### Exercise 5: Substructure search"
      ]
    },
    {
      "cell_type": "markdown",
      "metadata": {
        "id": "X0k_9lMzIgAE"
      },
      "source": [
        "In this exercise, you will use `SMILES` and `SMARTS` to filter our solubility dataset and keep only the molecules that match certain substructure patterns. First, you have to get all the molecules that contain a phenyl ring using a `SMILES` pattern."
      ]
    },
    {
      "cell_type": "code",
      "execution_count": null,
      "metadata": {
        "id": "9q3mzdudIgAE"
      },
      "outputs": [],
      "source": [
        "###YOUR CODE\n",
        "\n",
        "#create pattern\n",
        "phenyl = Chem.MolFromSmiles('')\n",
        "\n",
        "#apply HasSubstructureMatch to each molecule (we use a lambda function here)\n",
        "df['phenyl'] = df['Molecule'].apply(lambda x: x.HasSubstructMatch()) #use phenyl object for the query\n",
        "\n",
        "###END\n",
        "\n",
        "#display rows that contain only the phenyl substructure\n",
        "df_phenyl = df[df['phenyl']]\n",
        "print(f'There are {len(df_phenyl)} molecules containing a phenyl ring')\n",
        "df_phenyl.head()\n"
      ]
    },
    {
      "cell_type": "markdown",
      "metadata": {
        "id": "thFWU-qKIgAE"
      },
      "source": [
        "Now we use `SMARTS` to retrieve all molecules containing a ring."
      ]
    },
    {
      "cell_type": "code",
      "execution_count": null,
      "metadata": {
        "id": "sU9qd4pDIgAF"
      },
      "outputs": [],
      "source": [
        "#### YOUR CODE\n",
        "ring = Chem.MolFromSmarts('') #look for the SMARTS specification corresponding to any ring\n",
        "\n",
        "df['ring'] = #proceed as in the previous case\n",
        "\n",
        "### END\n",
        "\n",
        "#display rows that contain only the phenyl substructure\n",
        "df_ring = df[df['ring']]\n",
        "print(f'There are {len(df_ring)} molecules containing a ring')\n",
        "df_ring.head()"
      ]
    },
    {
      "cell_type": "markdown",
      "metadata": {
        "id": "aal-oPhhIgAF"
      },
      "source": [
        "Check the solution for each part."
      ]
    },
    {
      "cell_type": "code",
      "execution_count": null,
      "metadata": {
        "id": "Faujp7KbIgAF"
      },
      "outputs": [],
      "source": [
        "# %load https://raw.githubusercontent.com/schwallergroup/ai4chem_course/main/notebooks/solutions/solution_01d_05.py"
      ]
    },
    {
      "cell_type": "markdown",
      "metadata": {
        "id": "_RXnn2AhIgAF"
      },
      "source": [
        "## Conclusion"
      ]
    },
    {
      "cell_type": "markdown",
      "metadata": {
        "id": "9qEgJJEkIgAG"
      },
      "source": [
        "During this session, we have seen how to use `rdkit` to handle basic molecule operations, create fingerprints to compare different substances, compute descriptors and look for substructure matches. These are common tasks in cheminformatics and ML, so we encourage you to keep practising to master them!\n",
        "\n",
        "Here you have more resources to get more details about chemoinformatics:\n",
        "- https://iwatobipen.wordpress.com/\n",
        "- https://greglandrum.github.io/rdkit-blog/\n",
        "- https://www.rdkit.org/docs/Cookbook.html"
      ]
    }
  ],
  "metadata": {
    "kernelspec": {
      "display_name": "Python 3.10.6 ('eln')",
      "language": "python",
      "name": "python3"
    },
    "language_info": {
      "codemirror_mode": {
        "name": "ipython",
        "version": 3
      },
      "file_extension": ".py",
      "mimetype": "text/x-python",
      "name": "python",
      "nbconvert_exporter": "python",
      "pygments_lexer": "ipython3",
      "version": "3.10.8"
    },
    "orig_nbformat": 4,
    "vscode": {
      "interpreter": {
        "hash": "9571ef9a7bc45a09ccc2f3720496d960963c4ded6b0c85c59c3fe4342582d55a"
      }
    },
    "colab": {
      "provenance": []
    }
  },
  "nbformat": 4,
  "nbformat_minor": 0
}